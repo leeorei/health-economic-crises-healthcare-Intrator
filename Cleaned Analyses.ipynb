{
 "cells": [
  {
   "cell_type": "markdown",
   "metadata": {},
   "source": [
    "This code runs the analyses for Intrator's study \"Effects of Health and Economic Crises on Healthcare Spending in the United States\""
   ]
  },
  {
   "cell_type": "code",
   "execution_count": 1,
   "metadata": {},
   "outputs": [],
   "source": [
    "## package imports\n",
    "import numpy as np\n",
    "import pandas as pd\n",
    "\n",
    "import statsmodels.api as sm\n",
    "from statsmodels.tsa.stattools import adfuller\n",
    "\n",
    "from stargazer.stargazer import Stargazer"
   ]
  },
  {
   "cell_type": "code",
   "execution_count": 2,
   "metadata": {},
   "outputs": [],
   "source": [
    "## data imports\n",
    "\n",
    "## OECD datasets\n",
    "main = pd.read_csv('clean dataset.csv').set_index('year')\n",
    "\n",
    "## CDC datasets\n",
    "aids = pd.read_csv('cleaned aids data - 1970-2015.csv').set_index('year')\n",
    "aids = aids[(aids.index >= 1970) & (aids.index <= 2013)] ## getting rid of years outside of period of analysis\n",
    "opioid = pd.read_csv('cleaned opioid data - 1999-2015.csv').set_index('year')\n",
    "opioid = opioid[(opioid.index >= 1970) & (opioid.index <= 2013)]\n",
    "\n",
    "## BLS datasets\n",
    "cpi = pd.read_csv('clean medical cpi.csv').set_index('year')\n",
    "cpi = cpi[(cpi.index >=1970) & (cpi.index <= 2013)]"
   ]
  },
  {
   "cell_type": "markdown",
   "metadata": {},
   "source": [
    "# Summary Statistics for All Variables"
   ]
  },
  {
   "cell_type": "code",
   "execution_count": 3,
   "metadata": {},
   "outputs": [],
   "source": [
    "## starting with an empty list to which all the relevant values will be appended\n",
    "summary = []\n",
    "\n",
    "## appending lists with relevant summary statistics and variable names for the main dataframe\n",
    "for col in main.columns:\n",
    "    summary.append([\n",
    "        col, len(main[col]), np.mean(main[col]), np.std(main[col]), np.min(main[col]), np.max(main[col])\n",
    "    ])\n",
    "\n",
    "## appending a list with the relevant values for the medical care CPI data\n",
    "summary.append([\n",
    "    'CPI', len(cpi), np.mean(cpi.cpi), np.std(cpi.cpi), np.min(cpi.cpi), np.max(cpi.cpi)\n",
    "])\n",
    "    \n",
    "## appending a list with the relevant values for the opioid crude death rate\n",
    "summary.append([\n",
    "    'opioid_crude', len(opioid), np.mean(opioid.opioid_crude), np.std(opioid.opioid_crude), np.min(opioid.opioid_crude),\n",
    "    np.max(opioid.opioid_crude)\n",
    "])\n",
    "\n",
    "## appending a list with the relevant values for the HIV/AIDS crude death rate\n",
    "summary.append([\n",
    "    'aids_crude', 2013-1979, np.mean(aids.aids_crude), np.std(aids.aids_crude), np.min(aids.aids_crude),\n",
    "    np.max(aids.aids_crude)\n",
    "])\n",
    "\n",
    "## initializing a list for the correct column names for the summary statistics dataframe that will be presented\n",
    "summary_cols = ['variable', 'n', 'mean', 'standard deviation', 'min', 'max']\n",
    "\n",
    "## turning the summary statistics list-of-lists into a dataframe, setting its columns, and then setting its index to be\n",
    "## the variable names\n",
    "summary = pd.DataFrame(summary, columns = summary_cols).set_index('variable')\n",
    "\n",
    "## sending the summary statistics dataframe to a .csv file\n",
    "summary.to_csv('summary stats.csv')"
   ]
  },
  {
   "cell_type": "markdown",
   "metadata": {},
   "source": [
    "# Final Data Cleaning and Combining of Each Dataset"
   ]
  },
  {
   "cell_type": "markdown",
   "metadata": {},
   "source": [
    "## creating dataframe for the baseline independent variables (OECD independents)"
   ]
  },
  {
   "cell_type": "code",
   "execution_count": 4,
   "metadata": {},
   "outputs": [],
   "source": [
    "## copying relevant columns\n",
    "base_indep = main[main.columns[4:]]\n",
    "\n",
    "## taking the natural logarithm and first difference of all variables, then removing the null values\n",
    "base_indep = np.log(base_indep).diff().dropna()\n",
    "\n",
    "## adding a constant using statsmodels\n",
    "base_indep = sm.add_constant(base_indep)\n",
    "\n",
    "## adding a linear time trend based on the year\n",
    "base_indep['t'] = base_indep.index - 1970"
   ]
  },
  {
   "cell_type": "markdown",
   "metadata": {},
   "source": [
    "## creating dataframe for health crises variables"
   ]
  },
  {
   "cell_type": "code",
   "execution_count": 5,
   "metadata": {},
   "outputs": [
    {
     "name": "stderr",
     "output_type": "stream",
     "text": [
      "<ipython-input-5-aa8f85d96717>:7: RuntimeWarning: divide by zero encountered in log\n",
      "  aids_prep[['aids_crude', 'aids_rel_inter']] = np.log(aids_prep[['aids_crude', 'aids_rel_inter']])\n"
     ]
    },
    {
     "data": {
      "text/plain": [
       "'Do not worry about the error message involving the natural logarithms, that is simply a numpy issue that is fixed\\nwhen those negative infinity values are replaced with 0s in this cell.'"
      ]
     },
     "execution_count": 5,
     "metadata": {},
     "output_type": "execute_result"
    }
   ],
   "source": [
    "## creating a copy of the aids dataframe\n",
    "aids_prep = aids.copy()\n",
    "\n",
    "## taking the natural logarithm of the crude death rate and the interaction between crude death rate and reliable years\n",
    "## (will result in some negative infinity values because we are taking the natural logarithm of 0 on multiple occasions,\n",
    "## but we will replace those values with 0 as they are supposed to be 0 anyway for the regressions)\n",
    "aids_prep[['aids_crude', 'aids_rel_inter']] = np.log(aids_prep[['aids_crude', 'aids_rel_inter']])\n",
    "\n",
    "## replacing -inf with 0s as described above\n",
    "aids_prep[['aids_crude', 'aids_rel_inter']] = aids_prep[['aids_crude', 'aids_rel_inter']].replace(np.float('-inf'), 0)\n",
    "\n",
    "## taking first difference of now logged variables of interest (not the dummy variable for reliable data)\n",
    "aids_prep[['aids_crude', 'aids_rel_inter']] = aids_prep[['aids_crude', 'aids_rel_inter']].diff()\n",
    "\n",
    "## removing null values from the dataset\n",
    "aids_prep = aids_prep.dropna()\n",
    "\n",
    "## reordering the columns so the interaction is the last column\n",
    "aids_prep = aids_prep[['aids_crude', 'aids_rel_inter', 'reliable']]\n",
    "\n",
    "'''Do not worry about the error message involving the natural logarithms, that is simply a numpy issue that is fixed\n",
    "when those negative infinity values are replaced with 0s in this cell.'''"
   ]
  },
  {
   "cell_type": "code",
   "execution_count": 6,
   "metadata": {},
   "outputs": [],
   "source": [
    "## creating a copy of the opioid data\n",
    "op_prep = opioid.copy()\n",
    "\n",
    "## taking the natural logarithm of the opioid variable\n",
    "op_prep = np.log(op_prep)\n",
    "\n",
    "## creating a dataframe of 0s to be appended to the beginning of the opioid data to account for years where opioid deaths\n",
    "## went unnoticed and/or relatively unmeasured\n",
    "zeros = pd.DataFrame(\n",
    "    {'year': list(range(1970,1999)), 'opioid_crude': [0]*len(range(1970,1999))}\n",
    "    ).set_index('year')\n",
    "\n",
    "## appending the 0s and the natural logarithm of the opioid data\n",
    "op_prep = zeros.append(op_prep)\n",
    "\n",
    "## taking the first difference of the opioid data and then removing the null values\n",
    "op_prep = op_prep.diff().dropna()"
   ]
  },
  {
   "cell_type": "code",
   "execution_count": 7,
   "metadata": {},
   "outputs": [],
   "source": [
    "## combining the prepped opioid and aids data into a single dataframe\n",
    "health_crises = op_prep.join(aids_prep)\n",
    "\n",
    "## removing values not in the period of analysis (1970-2013, although we start at 1971 here because of first differencing)\n",
    "health_crises = health_crises[health_crises.index <= 2013]"
   ]
  },
  {
   "cell_type": "code",
   "execution_count": 8,
   "metadata": {},
   "outputs": [],
   "source": [
    "## creating the dataframe for independent variables which include health crises\n",
    "crisis_indep = base_indep.join(health_crises)"
   ]
  },
  {
   "cell_type": "markdown",
   "metadata": {},
   "source": [
    "## creating dataframes for the dependent variables\n",
    "combining the spending variables with CPI, then dividing to obtain quantity measures"
   ]
  },
  {
   "cell_type": "code",
   "execution_count": 9,
   "metadata": {},
   "outputs": [],
   "source": [
    "## creating a dataframe which is just a copy of all the spending metrics\n",
    "spending = main[main.columns[:4]].copy()\n",
    "\n",
    "## creating a list of renamed columns where we drop the '_USD_CAP' at the end for easier reading (all spending metrics\n",
    "## are already in US dollars per capita)\n",
    "spending_names = [col[:-8] for col in spending.columns]\n",
    "\n",
    "## renaming the columns of the spending data to match these values\n",
    "spending.columns = spending_names"
   ]
  },
  {
   "cell_type": "code",
   "execution_count": 10,
   "metadata": {},
   "outputs": [],
   "source": [
    "## joining the medical care CPI measure to spending to more easily calculate the quantities\n",
    "spending = cpi.join(spending).dropna()"
   ]
  },
  {
   "cell_type": "code",
   "execution_count": 11,
   "metadata": {},
   "outputs": [],
   "source": [
    "## creating the quantity measures by dividing each spending metric by the CPI\n",
    "for col in spending_names:\n",
    "    spending[col+'_q'] = spending[col] / spending['cpi']"
   ]
  },
  {
   "cell_type": "code",
   "execution_count": 12,
   "metadata": {},
   "outputs": [],
   "source": [
    "## creating multiple dataframes which will act as the dependent variables for each part of the analysis\n",
    "\n",
    "## creating the baseline dependent variables, which will include total spending, total quantity, and CPI\n",
    "base_dep = spending[['TOT', 'cpi', 'TOT_q']].copy()\n",
    "\n",
    "## creating the segmented dependent variables, which will include the spending and quantities for OOPEXP, COMPULSORY,\n",
    "## & VOLUNTARY\n",
    "segmented_dep = spending[['OOPEXP', 'OOPEXP_q', 'VOLUNTARY', 'VOLUNTARY_q', 'COMPULSORY', 'COMPULSORY_q']].copy()"
   ]
  },
  {
   "cell_type": "code",
   "execution_count": 13,
   "metadata": {},
   "outputs": [],
   "source": [
    "## taking the natural logarithm, first difference, and removing null values for each of these dependent measures here\n",
    "base_dep = np.log(base_dep).diff().dropna()\n",
    "segmented_dep = np.log(segmented_dep).diff().dropna()"
   ]
  },
  {
   "cell_type": "markdown",
   "metadata": {},
   "source": [
    "# Running the Regressions on the Data\n",
    "\n",
    "Using statsmodels to run the regressions and then using Stargazer to combine the results into a pretty format that can be exported nicely"
   ]
  },
  {
   "cell_type": "code",
   "execution_count": 14,
   "metadata": {},
   "outputs": [
    {
     "data": {
      "text/html": [
       "<table style=\"text-align:center\"><tr><td colspan=\"4\" style=\"border-bottom: 1px solid black\"></td></tr><tr><td style=\"text-align:left\"></td><tr><td></td><td colspan=\"1\">TOT</td><td colspan=\"1\">cpi</td><td colspan=\"1\">TOT_q</td></tr><tr><td colspan=\"4\" style=\"border-bottom: 1px solid black\"></td></tr><tr><td style=\"text-align:left\">const</td><td>0.048<sup>*</sup></td><td>0.034<sup></sup></td><td>0.014<sup></sup></td></tr><tr><td style=\"text-align:left\"></td><td>(0.019)</td><td>(0.023)</td><td>(0.025)</td></tr><tr><td style=\"text-align:left\">unemp</td><td>0.049<sup>**</sup></td><td>0.063<sup>***</sup></td><td>-0.014<sup></sup></td></tr><tr><td style=\"text-align:left\"></td><td>(0.018)</td><td>(0.017)</td><td>(0.018)</td></tr><tr><td style=\"text-align:left\">income</td><td>0.806<sup>***</sup></td><td>0.528<sup>**</sup></td><td>0.279<sup></sup></td></tr><tr><td style=\"text-align:left\"></td><td>(0.177)</td><td>(0.188)</td><td>(0.210)</td></tr><tr><td style=\"text-align:left\">alc</td><td>-0.280<sup>*</sup></td><td>-0.366<sup>*</sup></td><td>0.086<sup></sup></td></tr><tr><td style=\"text-align:left\"></td><td>(0.134)</td><td>(0.149)</td><td>(0.142)</td></tr><tr><td style=\"text-align:left\">elderly</td><td>0.112<sup></sup></td><td>0.419<sup>**</sup></td><td>-0.307<sup></sup></td></tr><tr><td style=\"text-align:left\"></td><td>(0.244)</td><td>(0.149)</td><td>(0.225)</td></tr><tr><td style=\"text-align:left\">life_exp</td><td>-0.377<sup></sup></td><td>0.145<sup></sup></td><td>-0.522<sup></sup></td></tr><tr><td style=\"text-align:left\"></td><td>(2.103)</td><td>(1.844)</td><td>(2.228)</td></tr><tr><td style=\"text-align:left\">life_exp65</td><td>0.196<sup></sup></td><td>0.097<sup></sup></td><td>0.099<sup></sup></td></tr><tr><td style=\"text-align:left\"></td><td>(0.609)</td><td>(0.520)</td><td>(0.648)</td></tr><tr><td style=\"text-align:left\">t</td><td>-0.001<sup>*</sup></td><td>-0.000<sup></sup></td><td>-0.000<sup></sup></td></tr><tr><td style=\"text-align:left\"></td><td>(0.000)</td><td>(0.001)</td><td>(0.001)</td></tr><td colspan=\"4\" style=\"border-bottom: 1px solid black\"></td></tr><tr><td style=\"text-align: left\">Observations</td><td>43</td><td>43</td><td>43</td></tr><tr><td style=\"text-align: left\">R<sup>2</sup></td><td>0.840</td><td>0.684</td><td>0.414</td></tr><tr><td style=\"text-align: left\">Adjusted R<sup>2</sup></td><td>0.809</td><td>0.621</td><td>0.296</td></tr><tr><td style=\"text-align: left\">Residual Std. Error</td><td>0.015 (df=35)</td><td>0.016 (df=35)</td><td>0.016 (df=35)</td></tr><tr><td style=\"text-align: left\">F Statistic</td><td>31.968<sup>***</sup> (df=7; 35)</td><td>26.660<sup>***</sup> (df=7; 35)</td><td>4.313<sup>**</sup> (df=7; 35)</td></tr><tr><td colspan=\"4\" style=\"border-bottom: 1px solid black\"></td></tr><tr><td style=\"text-align: left\">Note:</td>\n",
       " <td colspan=\"3\" style=\"text-align: right\">\n",
       "  <sup>*</sup>p&lt;0.05;\n",
       "  <sup>**</sup>p&lt;0.01;\n",
       "  <sup>***</sup>p&lt;0.001\n",
       " </td></tr></table>"
      ],
      "text/plain": [
       "<stargazer.stargazer.Stargazer at 0x1740e8922e0>"
      ]
     },
     "execution_count": 14,
     "metadata": {},
     "output_type": "execute_result"
    }
   ],
   "source": [
    "## initializing an empty list to store all the regressions for the baseline models\n",
    "base_regs = []\n",
    "\n",
    "## running a loop to regress the base_dep variables on the base_indep variables, then fitting the regression using 'HC1'\n",
    "## estimated robust standard errors\n",
    "for col in base_dep:\n",
    "    base_regs.append(sm.OLS(base_dep[col], base_indep).fit(cov_type='HC1'))\n",
    "    \n",
    "## combining the results into a pretty stargazer format\n",
    "base_results = Stargazer(base_regs)\n",
    "base_results.custom_columns(base_dep.columns.tolist(), [1]*len(base_dep.columns))\n",
    "base_results.show_model_numbers(False)\n",
    "base_results.covariate_order(base_indep.columns.tolist())\n",
    "base_results.significance_levels([0.05, 0.01, 0.001])\n",
    "base_results"
   ]
  },
  {
   "cell_type": "code",
   "execution_count": 15,
   "metadata": {},
   "outputs": [
    {
     "data": {
      "text/html": [
       "<table style=\"text-align:center\"><tr><td colspan=\"4\" style=\"border-bottom: 1px solid black\"></td></tr><tr><td style=\"text-align:left\"></td><tr><td></td><td colspan=\"1\">TOT</td><td colspan=\"1\">cpi</td><td colspan=\"1\">TOT_q</td></tr><tr><td colspan=\"4\" style=\"border-bottom: 1px solid black\"></td></tr><tr><td style=\"text-align:left\">const</td><td>0.050<sup>*</sup></td><td>0.044<sup>*</sup></td><td>0.006<sup></sup></td></tr><tr><td style=\"text-align:left\"></td><td>(0.021)</td><td>(0.019)</td><td>(0.027)</td></tr><tr><td style=\"text-align:left\">unemp</td><td>0.046<sup>*</sup></td><td>0.060<sup>***</sup></td><td>-0.014<sup></sup></td></tr><tr><td style=\"text-align:left\"></td><td>(0.020)</td><td>(0.016)</td><td>(0.021)</td></tr><tr><td style=\"text-align:left\">income</td><td>0.792<sup>***</sup></td><td>0.488<sup>**</sup></td><td>0.304<sup></sup></td></tr><tr><td style=\"text-align:left\"></td><td>(0.189)</td><td>(0.169)</td><td>(0.238)</td></tr><tr><td style=\"text-align:left\">alc</td><td>-0.293<sup></sup></td><td>-0.316<sup></sup></td><td>0.023<sup></sup></td></tr><tr><td style=\"text-align:left\"></td><td>(0.154)</td><td>(0.163)</td><td>(0.166)</td></tr><tr><td style=\"text-align:left\">elderly</td><td>0.134<sup></sup></td><td>0.259<sup></sup></td><td>-0.124<sup></sup></td></tr><tr><td style=\"text-align:left\"></td><td>(0.296)</td><td>(0.199)</td><td>(0.269)</td></tr><tr><td style=\"text-align:left\">life_exp</td><td>0.124<sup></sup></td><td>1.114<sup></sup></td><td>-0.990<sup></sup></td></tr><tr><td style=\"text-align:left\"></td><td>(2.187)</td><td>(2.071)</td><td>(2.037)</td></tr><tr><td style=\"text-align:left\">life_exp65</td><td>0.220<sup></sup></td><td>0.024<sup></sup></td><td>0.196<sup></sup></td></tr><tr><td style=\"text-align:left\"></td><td>(0.692)</td><td>(0.574)</td><td>(0.588)</td></tr><tr><td style=\"text-align:left\">t</td><td>-0.001<sup>*</sup></td><td>-0.000<sup></sup></td><td>-0.001<sup></sup></td></tr><tr><td style=\"text-align:left\"></td><td>(0.000)</td><td>(0.001)</td><td>(0.001)</td></tr><tr><td style=\"text-align:left\">opioid_crude</td><td>0.009<sup></sup></td><td>-0.007<sup></sup></td><td>0.015<sup></sup></td></tr><tr><td style=\"text-align:left\"></td><td>(0.013)</td><td>(0.009)</td><td>(0.013)</td></tr><tr><td style=\"text-align:left\">aids_crude</td><td>0.001<sup></sup></td><td>-0.000<sup></sup></td><td>0.001<sup></sup></td></tr><tr><td style=\"text-align:left\"></td><td>(0.001)</td><td>(0.001)</td><td>(0.001)</td></tr><tr><td style=\"text-align:left\">aids_rel_inter</td><td>0.003<sup></sup></td><td>0.015<sup></sup></td><td>-0.012<sup></sup></td></tr><tr><td style=\"text-align:left\"></td><td>(0.008)</td><td>(0.008)</td><td>(0.007)</td></tr><tr><td style=\"text-align:left\">reliable</td><td>-0.005<sup></sup></td><td>-0.016<sup>*</sup></td><td>0.011<sup></sup></td></tr><tr><td style=\"text-align:left\"></td><td>(0.006)</td><td>(0.008)</td><td>(0.008)</td></tr><td colspan=\"4\" style=\"border-bottom: 1px solid black\"></td></tr><tr><td style=\"text-align: left\">Observations</td><td>43</td><td>43</td><td>43</td></tr><tr><td style=\"text-align: left\">R<sup>2</sup></td><td>0.850</td><td>0.747</td><td>0.486</td></tr><tr><td style=\"text-align: left\">Adjusted R<sup>2</sup></td><td>0.797</td><td>0.658</td><td>0.303</td></tr><tr><td style=\"text-align: left\">Residual Std. Error</td><td>0.015 (df=31)</td><td>0.015 (df=31)</td><td>0.016 (df=31)</td></tr><tr><td style=\"text-align: left\">F Statistic</td><td>26.006<sup>***</sup> (df=11; 31)</td><td>36.699<sup>***</sup> (df=11; 31)</td><td>2.616<sup>*</sup> (df=11; 31)</td></tr><tr><td colspan=\"4\" style=\"border-bottom: 1px solid black\"></td></tr><tr><td style=\"text-align: left\">Note:</td>\n",
       " <td colspan=\"3\" style=\"text-align: right\">\n",
       "  <sup>*</sup>p&lt;0.05;\n",
       "  <sup>**</sup>p&lt;0.01;\n",
       "  <sup>***</sup>p&lt;0.001\n",
       " </td></tr></table>"
      ],
      "text/plain": [
       "<stargazer.stargazer.Stargazer at 0x174108a2850>"
      ]
     },
     "execution_count": 15,
     "metadata": {},
     "output_type": "execute_result"
    }
   ],
   "source": [
    "## initializing an empty list to store all the regressions for the crisis models\n",
    "crisis_regs = []\n",
    "\n",
    "## running a loop to regress the base_dep variables on the crisis_indep variables, then fitting the regression using 'HC1'\n",
    "## estimated robust standard errors\n",
    "for col in base_dep:\n",
    "    crisis_regs.append(sm.OLS(base_dep[col], crisis_indep).fit(cov_type='HC1'))\n",
    "    \n",
    "## combining the results into a pretty stargazer format\n",
    "crisis_results = Stargazer(crisis_regs)\n",
    "crisis_results.custom_columns(base_dep.columns.tolist(), [1]*len(base_dep.columns))\n",
    "crisis_results.show_model_numbers(False)\n",
    "crisis_results.covariate_order(crisis_indep.columns.tolist())\n",
    "crisis_results.significance_levels([0.05, 0.01, 0.001])\n",
    "crisis_results"
   ]
  },
  {
   "cell_type": "code",
   "execution_count": 16,
   "metadata": {},
   "outputs": [
    {
     "data": {
      "text/html": [
       "<table style=\"text-align:center\"><tr><td colspan=\"7\" style=\"border-bottom: 1px solid black\"></td></tr><tr><td style=\"text-align:left\"></td><tr><td></td><td colspan=\"1\">OOPEXP</td><td colspan=\"1\">OOPEXP_q</td><td colspan=\"1\">VOLUNTARY</td><td colspan=\"1\">VOLUNTARY_q</td><td colspan=\"1\">COMPULSORY</td><td colspan=\"1\">COMPULSORY_q</td></tr><tr><td colspan=\"7\" style=\"border-bottom: 1px solid black\"></td></tr><tr><td style=\"text-align:left\">const</td><td>0.025<sup></sup></td><td>-0.019<sup></sup></td><td>0.014<sup></sup></td><td>-0.031<sup></sup></td><td>0.101<sup>***</sup></td><td>0.056<sup>**</sup></td></tr><tr><td style=\"text-align:left\"></td><td>(0.042)</td><td>(0.049)</td><td>(0.035)</td><td>(0.041)</td><td>(0.023)</td><td>(0.022)</td></tr><tr><td style=\"text-align:left\">unemp</td><td>-0.023<sup></sup></td><td>-0.083<sup>**</sup></td><td>0.017<sup></sup></td><td>-0.043<sup></sup></td><td>0.084<sup>***</sup></td><td>0.024<sup></sup></td></tr><tr><td style=\"text-align:left\"></td><td>(0.026)</td><td>(0.032)</td><td>(0.028)</td><td>(0.029)</td><td>(0.019)</td><td>(0.018)</td></tr><tr><td style=\"text-align:left\">income</td><td>0.757<sup>*</sup></td><td>0.269<sup></sup></td><td>1.099<sup>***</sup></td><td>0.611<sup></sup></td><td>0.380<sup></sup></td><td>-0.108<sup></sup></td></tr><tr><td style=\"text-align:left\"></td><td>(0.363)</td><td>(0.416)</td><td>(0.307)</td><td>(0.369)</td><td>(0.220)</td><td>(0.191)</td></tr><tr><td style=\"text-align:left\">alc</td><td>-0.090<sup></sup></td><td>0.226<sup></sup></td><td>-0.496<sup></sup></td><td>-0.180<sup></sup></td><td>0.007<sup></sup></td><td>0.322<sup>*</sup></td></tr><tr><td style=\"text-align:left\"></td><td>(0.253)</td><td>(0.298)</td><td>(0.259)</td><td>(0.270)</td><td>(0.151)</td><td>(0.148)</td></tr><tr><td style=\"text-align:left\">elderly</td><td>0.023<sup></sup></td><td>-0.236<sup></sup></td><td>0.135<sup></sup></td><td>-0.124<sup></sup></td><td>0.107<sup></sup></td><td>-0.152<sup></sup></td></tr><tr><td style=\"text-align:left\"></td><td>(0.424)</td><td>(0.479)</td><td>(0.361)</td><td>(0.348)</td><td>(0.361)</td><td>(0.328)</td></tr><tr><td style=\"text-align:left\">life_exp</td><td>3.258<sup></sup></td><td>2.144<sup></sup></td><td>4.060<sup></sup></td><td>2.946<sup></sup></td><td>-5.103<sup>*</sup></td><td>-6.218<sup>**</sup></td></tr><tr><td style=\"text-align:left\"></td><td>(3.057)</td><td>(3.790)</td><td>(3.019)</td><td>(2.726)</td><td>(2.092)</td><td>(2.336)</td></tr><tr><td style=\"text-align:left\">life_exp65</td><td>-0.509<sup></sup></td><td>-0.533<sup></sup></td><td>-0.929<sup></sup></td><td>-0.953<sup></sup></td><td>1.753<sup>**</sup></td><td>1.729<sup>**</sup></td></tr><tr><td style=\"text-align:left\"></td><td>(0.998)</td><td>(1.165)</td><td>(1.020)</td><td>(0.915)</td><td>(0.610)</td><td>(0.596)</td></tr><tr><td style=\"text-align:left\">t</td><td>0.000<sup></sup></td><td>0.000<sup></sup></td><td>-0.000<sup></sup></td><td>0.000<sup></sup></td><td>-0.002<sup>***</sup></td><td>-0.002<sup>***</sup></td></tr><tr><td style=\"text-align:left\"></td><td>(0.001)</td><td>(0.001)</td><td>(0.001)</td><td>(0.001)</td><td>(0.000)</td><td>(0.000)</td></tr><tr><td style=\"text-align:left\">opioid_crude</td><td>0.034<sup></sup></td><td>0.040<sup></sup></td><td>0.029<sup></sup></td><td>0.036<sup>*</sup></td><td>-0.018<sup></sup></td><td>-0.011<sup></sup></td></tr><tr><td style=\"text-align:left\"></td><td>(0.018)</td><td>(0.021)</td><td>(0.016)</td><td>(0.017)</td><td>(0.012)</td><td>(0.013)</td></tr><tr><td style=\"text-align:left\">aids_crude</td><td>0.002<sup></sup></td><td>0.002<sup></sup></td><td>0.001<sup></sup></td><td>0.001<sup></sup></td><td>0.000<sup></sup></td><td>0.001<sup></sup></td></tr><tr><td style=\"text-align:left\"></td><td>(0.002)</td><td>(0.002)</td><td>(0.001)</td><td>(0.001)</td><td>(0.001)</td><td>(0.001)</td></tr><tr><td style=\"text-align:left\">aids_rel_inter</td><td>-0.013<sup></sup></td><td>-0.028<sup></sup></td><td>0.001<sup></sup></td><td>-0.014<sup></sup></td><td>0.005<sup></sup></td><td>-0.009<sup></sup></td></tr><tr><td style=\"text-align:left\"></td><td>(0.013)</td><td>(0.018)</td><td>(0.009)</td><td>(0.010)</td><td>(0.010)</td><td>(0.008)</td></tr><tr><td style=\"text-align:left\">reliable</td><td>-0.031<sup>***</sup></td><td>-0.015<sup></sup></td><td>-0.011<sup></sup></td><td>0.005<sup></sup></td><td>0.004<sup></sup></td><td>0.020<sup>*</sup></td></tr><tr><td style=\"text-align:left\"></td><td>(0.009)</td><td>(0.012)</td><td>(0.009)</td><td>(0.010)</td><td>(0.007)</td><td>(0.008)</td></tr><td colspan=\"7\" style=\"border-bottom: 1px solid black\"></td></tr><tr><td style=\"text-align: left\">Observations</td><td>43</td><td>43</td><td>43</td><td>43</td><td>43</td><td>43</td></tr><tr><td style=\"text-align: left\">R<sup>2</sup></td><td>0.658</td><td>0.371</td><td>0.759</td><td>0.445</td><td>0.847</td><td>0.582</td></tr><tr><td style=\"text-align: left\">Adjusted R<sup>2</sup></td><td>0.536</td><td>0.148</td><td>0.674</td><td>0.247</td><td>0.793</td><td>0.434</td></tr><tr><td style=\"text-align: left\">Residual Std. Error</td><td>0.023 (df=31)</td><td>0.028 (df=31)</td><td>0.021 (df=31)</td><td>0.022 (df=31)</td><td>0.016 (df=31)</td><td>0.016 (df=31)</td></tr><tr><td style=\"text-align: left\">F Statistic</td><td>11.920<sup>***</sup> (df=11; 31)</td><td>3.835<sup>**</sup> (df=11; 31)</td><td>17.435<sup>***</sup> (df=11; 31)</td><td>2.648<sup>*</sup> (df=11; 31)</td><td>18.676<sup>***</sup> (df=11; 31)</td><td>3.242<sup>**</sup> (df=11; 31)</td></tr><tr><td colspan=\"7\" style=\"border-bottom: 1px solid black\"></td></tr><tr><td style=\"text-align: left\">Note:</td>\n",
       " <td colspan=\"6\" style=\"text-align: right\">\n",
       "  <sup>*</sup>p&lt;0.05;\n",
       "  <sup>**</sup>p&lt;0.01;\n",
       "  <sup>***</sup>p&lt;0.001\n",
       " </td></tr></table>"
      ],
      "text/plain": [
       "<stargazer.stargazer.Stargazer at 0x174108b7910>"
      ]
     },
     "execution_count": 16,
     "metadata": {},
     "output_type": "execute_result"
    }
   ],
   "source": [
    "## initializing an empty list to store all the regressions for the segmented analyses\n",
    "segmented_regs = []\n",
    "\n",
    "## running a loop to regress the base_dep variables on the base_indep variables, then fitting the regression using 'HC1'\n",
    "## estimated robust standard errors\n",
    "for col in segmented_dep:\n",
    "    segmented_regs.append(sm.OLS(segmented_dep[col], crisis_indep).fit(cov_type='HC1'))\n",
    "    \n",
    "## combining the results into a pretty stargazer format\n",
    "segmented_results = Stargazer(segmented_regs)\n",
    "segmented_results.custom_columns(segmented_dep.columns.tolist(), [1]*len(segmented_dep.columns))\n",
    "segmented_results.show_model_numbers(False)\n",
    "segmented_results.covariate_order(crisis_indep.columns.tolist())\n",
    "segmented_results.significance_levels([0.05, 0.01, 0.001])\n",
    "segmented_results"
   ]
  },
  {
   "cell_type": "code",
   "execution_count": 17,
   "metadata": {},
   "outputs": [
    {
     "data": {
      "text/html": [
       "<table style=\"text-align:center\"><tr><td colspan=\"13\" style=\"border-bottom: 1px solid black\"></td></tr><tr><td style=\"text-align:left\"></td><tr><td></td><td colspan=\"1\">TOT</td><td colspan=\"1\">cpi</td><td colspan=\"1\">TOT_q</td><td colspan=\"1\">TOT</td><td colspan=\"1\">cpi</td><td colspan=\"1\">TOT_q</td><td colspan=\"1\">OOPEXP</td><td colspan=\"1\">OOPEXP_q</td><td colspan=\"1\">VOLUNTARY</td><td colspan=\"1\">VOLUNTARY_q</td><td colspan=\"1\">COMPULSORY</td><td colspan=\"1\">COMPULSORY_q</td></tr><tr><td style=\"text-align:left\"></td><td>(1)</td><td>(2)</td><td>(3)</td><td>(4)</td><td>(5)</td><td>(6)</td><td>(7)</td><td>(8)</td><td>(9)</td><td>(10)</td><td>(11)</td><td>(12)</td></tr><tr><td colspan=\"13\" style=\"border-bottom: 1px solid black\"></td></tr><tr><td style=\"text-align:left\">const</td><td>0.048<sup>*</sup></td><td>0.034<sup></sup></td><td>0.014<sup></sup></td><td>0.050<sup>*</sup></td><td>0.044<sup>*</sup></td><td>0.006<sup></sup></td><td>0.025<sup></sup></td><td>-0.019<sup></sup></td><td>0.014<sup></sup></td><td>-0.031<sup></sup></td><td>0.101<sup>***</sup></td><td>0.056<sup>**</sup></td></tr><tr><td style=\"text-align:left\"></td><td>(0.019)</td><td>(0.023)</td><td>(0.025)</td><td>(0.021)</td><td>(0.019)</td><td>(0.027)</td><td>(0.042)</td><td>(0.049)</td><td>(0.035)</td><td>(0.041)</td><td>(0.023)</td><td>(0.022)</td></tr><tr><td style=\"text-align:left\">unemp</td><td>0.049<sup>**</sup></td><td>0.063<sup>***</sup></td><td>-0.014<sup></sup></td><td>0.046<sup>*</sup></td><td>0.060<sup>***</sup></td><td>-0.014<sup></sup></td><td>-0.023<sup></sup></td><td>-0.083<sup>**</sup></td><td>0.017<sup></sup></td><td>-0.043<sup></sup></td><td>0.084<sup>***</sup></td><td>0.024<sup></sup></td></tr><tr><td style=\"text-align:left\"></td><td>(0.018)</td><td>(0.017)</td><td>(0.018)</td><td>(0.020)</td><td>(0.016)</td><td>(0.021)</td><td>(0.026)</td><td>(0.032)</td><td>(0.028)</td><td>(0.029)</td><td>(0.019)</td><td>(0.018)</td></tr><tr><td style=\"text-align:left\">income</td><td>0.806<sup>***</sup></td><td>0.528<sup>**</sup></td><td>0.279<sup></sup></td><td>0.792<sup>***</sup></td><td>0.488<sup>**</sup></td><td>0.304<sup></sup></td><td>0.757<sup>*</sup></td><td>0.269<sup></sup></td><td>1.099<sup>***</sup></td><td>0.611<sup></sup></td><td>0.380<sup></sup></td><td>-0.108<sup></sup></td></tr><tr><td style=\"text-align:left\"></td><td>(0.177)</td><td>(0.188)</td><td>(0.210)</td><td>(0.189)</td><td>(0.169)</td><td>(0.238)</td><td>(0.363)</td><td>(0.416)</td><td>(0.307)</td><td>(0.369)</td><td>(0.220)</td><td>(0.191)</td></tr><tr><td style=\"text-align:left\">alc</td><td>-0.280<sup>*</sup></td><td>-0.366<sup>*</sup></td><td>0.086<sup></sup></td><td>-0.293<sup></sup></td><td>-0.316<sup></sup></td><td>0.023<sup></sup></td><td>-0.090<sup></sup></td><td>0.226<sup></sup></td><td>-0.496<sup></sup></td><td>-0.180<sup></sup></td><td>0.007<sup></sup></td><td>0.322<sup>*</sup></td></tr><tr><td style=\"text-align:left\"></td><td>(0.134)</td><td>(0.149)</td><td>(0.142)</td><td>(0.154)</td><td>(0.163)</td><td>(0.166)</td><td>(0.253)</td><td>(0.298)</td><td>(0.259)</td><td>(0.270)</td><td>(0.151)</td><td>(0.148)</td></tr><tr><td style=\"text-align:left\">elderly</td><td>0.112<sup></sup></td><td>0.419<sup>**</sup></td><td>-0.307<sup></sup></td><td>0.134<sup></sup></td><td>0.259<sup></sup></td><td>-0.124<sup></sup></td><td>0.023<sup></sup></td><td>-0.236<sup></sup></td><td>0.135<sup></sup></td><td>-0.124<sup></sup></td><td>0.107<sup></sup></td><td>-0.152<sup></sup></td></tr><tr><td style=\"text-align:left\"></td><td>(0.244)</td><td>(0.149)</td><td>(0.225)</td><td>(0.296)</td><td>(0.199)</td><td>(0.269)</td><td>(0.424)</td><td>(0.479)</td><td>(0.361)</td><td>(0.348)</td><td>(0.361)</td><td>(0.328)</td></tr><tr><td style=\"text-align:left\">life_exp</td><td>-0.377<sup></sup></td><td>0.145<sup></sup></td><td>-0.522<sup></sup></td><td>0.124<sup></sup></td><td>1.114<sup></sup></td><td>-0.990<sup></sup></td><td>3.258<sup></sup></td><td>2.144<sup></sup></td><td>4.060<sup></sup></td><td>2.946<sup></sup></td><td>-5.103<sup>*</sup></td><td>-6.218<sup>**</sup></td></tr><tr><td style=\"text-align:left\"></td><td>(2.103)</td><td>(1.844)</td><td>(2.228)</td><td>(2.187)</td><td>(2.071)</td><td>(2.037)</td><td>(3.057)</td><td>(3.790)</td><td>(3.019)</td><td>(2.726)</td><td>(2.092)</td><td>(2.336)</td></tr><tr><td style=\"text-align:left\">life_exp65</td><td>0.196<sup></sup></td><td>0.097<sup></sup></td><td>0.099<sup></sup></td><td>0.220<sup></sup></td><td>0.024<sup></sup></td><td>0.196<sup></sup></td><td>-0.509<sup></sup></td><td>-0.533<sup></sup></td><td>-0.929<sup></sup></td><td>-0.953<sup></sup></td><td>1.753<sup>**</sup></td><td>1.729<sup>**</sup></td></tr><tr><td style=\"text-align:left\"></td><td>(0.609)</td><td>(0.520)</td><td>(0.648)</td><td>(0.692)</td><td>(0.574)</td><td>(0.588)</td><td>(0.998)</td><td>(1.165)</td><td>(1.020)</td><td>(0.915)</td><td>(0.610)</td><td>(0.596)</td></tr><tr><td style=\"text-align:left\">t</td><td>-0.001<sup>*</sup></td><td>-0.000<sup></sup></td><td>-0.000<sup></sup></td><td>-0.001<sup>*</sup></td><td>-0.000<sup></sup></td><td>-0.001<sup></sup></td><td>0.000<sup></sup></td><td>0.000<sup></sup></td><td>-0.000<sup></sup></td><td>0.000<sup></sup></td><td>-0.002<sup>***</sup></td><td>-0.002<sup>***</sup></td></tr><tr><td style=\"text-align:left\"></td><td>(0.000)</td><td>(0.001)</td><td>(0.001)</td><td>(0.000)</td><td>(0.001)</td><td>(0.001)</td><td>(0.001)</td><td>(0.001)</td><td>(0.001)</td><td>(0.001)</td><td>(0.000)</td><td>(0.000)</td></tr><tr><td style=\"text-align:left\">opioid_crude</td><td></td><td></td><td></td><td>0.009<sup></sup></td><td>-0.007<sup></sup></td><td>0.015<sup></sup></td><td>0.034<sup></sup></td><td>0.040<sup></sup></td><td>0.029<sup></sup></td><td>0.036<sup>*</sup></td><td>-0.018<sup></sup></td><td>-0.011<sup></sup></td></tr><tr><td style=\"text-align:left\"></td><td></td><td></td><td></td><td>(0.013)</td><td>(0.009)</td><td>(0.013)</td><td>(0.018)</td><td>(0.021)</td><td>(0.016)</td><td>(0.017)</td><td>(0.012)</td><td>(0.013)</td></tr><tr><td style=\"text-align:left\">aids_crude</td><td></td><td></td><td></td><td>0.001<sup></sup></td><td>-0.000<sup></sup></td><td>0.001<sup></sup></td><td>0.002<sup></sup></td><td>0.002<sup></sup></td><td>0.001<sup></sup></td><td>0.001<sup></sup></td><td>0.000<sup></sup></td><td>0.001<sup></sup></td></tr><tr><td style=\"text-align:left\"></td><td></td><td></td><td></td><td>(0.001)</td><td>(0.001)</td><td>(0.001)</td><td>(0.002)</td><td>(0.002)</td><td>(0.001)</td><td>(0.001)</td><td>(0.001)</td><td>(0.001)</td></tr><tr><td style=\"text-align:left\">aids_rel_inter</td><td></td><td></td><td></td><td>0.003<sup></sup></td><td>0.015<sup></sup></td><td>-0.012<sup></sup></td><td>-0.013<sup></sup></td><td>-0.028<sup></sup></td><td>0.001<sup></sup></td><td>-0.014<sup></sup></td><td>0.005<sup></sup></td><td>-0.009<sup></sup></td></tr><tr><td style=\"text-align:left\"></td><td></td><td></td><td></td><td>(0.008)</td><td>(0.008)</td><td>(0.007)</td><td>(0.013)</td><td>(0.018)</td><td>(0.009)</td><td>(0.010)</td><td>(0.010)</td><td>(0.008)</td></tr><tr><td style=\"text-align:left\">reliable</td><td></td><td></td><td></td><td>-0.005<sup></sup></td><td>-0.016<sup>*</sup></td><td>0.011<sup></sup></td><td>-0.031<sup>***</sup></td><td>-0.015<sup></sup></td><td>-0.011<sup></sup></td><td>0.005<sup></sup></td><td>0.004<sup></sup></td><td>0.020<sup>*</sup></td></tr><tr><td style=\"text-align:left\"></td><td></td><td></td><td></td><td>(0.006)</td><td>(0.008)</td><td>(0.008)</td><td>(0.009)</td><td>(0.012)</td><td>(0.009)</td><td>(0.010)</td><td>(0.007)</td><td>(0.008)</td></tr><td colspan=\"13\" style=\"border-bottom: 1px solid black\"></td></tr><tr><td style=\"text-align: left\">Observations</td><td>43</td><td>43</td><td>43</td><td>43</td><td>43</td><td>43</td><td>43</td><td>43</td><td>43</td><td>43</td><td>43</td><td>43</td></tr><tr><td style=\"text-align: left\">R<sup>2</sup></td><td>0.840</td><td>0.684</td><td>0.414</td><td>0.850</td><td>0.747</td><td>0.486</td><td>0.658</td><td>0.371</td><td>0.759</td><td>0.445</td><td>0.847</td><td>0.582</td></tr><tr><td style=\"text-align: left\">Adjusted R<sup>2</sup></td><td>0.809</td><td>0.621</td><td>0.296</td><td>0.797</td><td>0.658</td><td>0.303</td><td>0.536</td><td>0.148</td><td>0.674</td><td>0.247</td><td>0.793</td><td>0.434</td></tr><tr><td style=\"text-align: left\">Residual Std. Error</td><td>0.015 (df=35)</td><td>0.016 (df=35)</td><td>0.016 (df=35)</td><td>0.015 (df=31)</td><td>0.015 (df=31)</td><td>0.016 (df=31)</td><td>0.023 (df=31)</td><td>0.028 (df=31)</td><td>0.021 (df=31)</td><td>0.022 (df=31)</td><td>0.016 (df=31)</td><td>0.016 (df=31)</td></tr><tr><td style=\"text-align: left\">F Statistic</td><td>31.968<sup>***</sup> (df=7; 35)</td><td>26.660<sup>***</sup> (df=7; 35)</td><td>4.313<sup>**</sup> (df=7; 35)</td><td>26.006<sup>***</sup> (df=11; 31)</td><td>36.699<sup>***</sup> (df=11; 31)</td><td>2.616<sup>*</sup> (df=11; 31)</td><td>11.920<sup>***</sup> (df=11; 31)</td><td>3.835<sup>**</sup> (df=11; 31)</td><td>17.435<sup>***</sup> (df=11; 31)</td><td>2.648<sup>*</sup> (df=11; 31)</td><td>18.676<sup>***</sup> (df=11; 31)</td><td>3.242<sup>**</sup> (df=11; 31)</td></tr><tr><td colspan=\"13\" style=\"border-bottom: 1px solid black\"></td></tr><tr><td style=\"text-align: left\">Note:</td>\n",
       " <td colspan=\"12\" style=\"text-align: right\">\n",
       "  <sup>*</sup>p&lt;0.05;\n",
       "  <sup>**</sup>p&lt;0.01;\n",
       "  <sup>***</sup>p&lt;0.001\n",
       " </td></tr></table>"
      ],
      "text/plain": [
       "<stargazer.stargazer.Stargazer at 0x174108b5f40>"
      ]
     },
     "execution_count": 17,
     "metadata": {},
     "output_type": "execute_result"
    }
   ],
   "source": [
    "## creating a single large table describing results from all regressions above\n",
    "combined_results = Stargazer(base_regs + crisis_regs + segmented_regs)\n",
    "combined_results.custom_columns(2*base_dep.columns.tolist() + segmented_dep.columns.tolist(), \n",
    "                                [1]*(2*len(base_dep.columns)+len(segmented_dep.columns))\n",
    "                               )\n",
    "combined_results.covariate_order(crisis_indep.columns.tolist())\n",
    "combined_results.significance_levels([0.05, 0.01, 0.001])\n",
    "combined_results"
   ]
  },
  {
   "cell_type": "code",
   "execution_count": 18,
   "metadata": {},
   "outputs": [],
   "source": [
    "## exporting the combined results to an html file for easier distribution\n",
    "with open('all regression results.html', 'w') as f:\n",
    "    f.write(combined_results.render_html())"
   ]
  },
  {
   "cell_type": "code",
   "execution_count": null,
   "metadata": {},
   "outputs": [],
   "source": []
  }
 ],
 "metadata": {
  "kernelspec": {
   "display_name": "Python 3",
   "language": "python",
   "name": "python3"
  },
  "language_info": {
   "codemirror_mode": {
    "name": "ipython",
    "version": 3
   },
   "file_extension": ".py",
   "mimetype": "text/x-python",
   "name": "python",
   "nbconvert_exporter": "python",
   "pygments_lexer": "ipython3",
   "version": "3.8.3"
  },
  "toc": {
   "base_numbering": 1,
   "nav_menu": {},
   "number_sections": true,
   "sideBar": true,
   "skip_h1_title": false,
   "title_cell": "Table of Contents",
   "title_sidebar": "Contents",
   "toc_cell": false,
   "toc_position": {},
   "toc_section_display": true,
   "toc_window_display": false
  }
 },
 "nbformat": 4,
 "nbformat_minor": 4
}
